{
 "cells": [
  {
   "cell_type": "markdown",
   "id": "89a24b1c",
   "metadata": {},
   "source": [
    "## Manahil Zahid\n",
    "## SP25-BBD-044"
   ]
  },
  {
   "cell_type": "code",
   "execution_count": 18,
   "id": "111d7601",
   "metadata": {},
   "outputs": [
    {
     "name": "stdout",
     "output_type": "stream",
     "text": [
      "Hello, Python Learner!\n"
     ]
    }
   ],
   "source": [
    "# Ex.1 \n",
    "def say_hello():\n",
    "   print(\"Hello, Python Learner!\")\n",
    "say_hello()"
   ]
  },
  {
   "cell_type": "code",
   "execution_count": null,
   "id": "30e199a7-ca2f-43a4-97dc-c888cc913909",
   "metadata": {},
   "outputs": [
    {
     "name": "stdout",
     "output_type": "stream",
     "text": [
      "Hello, Sara how are you?\n"
     ]
    }
   ],
   "source": [
    "# Ex.2\n",
    "def greet_user(name):\n",
    " print(\"Hello,\" + name + \"how are you?\")\n",
    "greet_user(\" Sara \")"
   ]
  },
  {
   "cell_type": "code",
   "execution_count": null,
   "id": "2deb3d62-3cfa-4913-8510-084f1a0a8698",
   "metadata": {},
   "outputs": [
    {
     "name": "stdout",
     "output_type": "stream",
     "text": [
      "i have a pet cat\n",
      "my pet's name is chuchu\n"
     ]
    }
   ],
   "source": [
    "# Ex.3\n",
    "\n",
    "def describe_pet(animal_type, pet_name):\n",
    "    print(\"i have a pet \" + animal_type)\n",
    "    print(\"my pet's name is \" + pet_name)\n",
    "describe_pet(\"cat\", \"chuchu\")"
   ]
  },
  {
   "cell_type": "code",
   "execution_count": null,
   "id": "e34c23d8-93c0-495e-98d4-cbe756ec8a05",
   "metadata": {},
   "outputs": [
    {
     "name": "stdout",
     "output_type": "stream",
     "text": [
      "i have a pet cat\n",
      "my pet's name is chuchu\n"
     ]
    }
   ],
   "source": [
    "# Ex.4\n",
    "\n",
    "def describe_pet(pet_name, animal_type = \"dog\"):\n",
    "    print(\"i have a pet \" + animal_type)\n",
    "    print(\"my pet's name is \" + pet_name)\n",
    "describe_pet(\"chuchu\", \"cat\")"
   ]
  },
  {
   "cell_type": "code",
   "execution_count": null,
   "id": "9bb2c063-904b-43df-8011-42315f51776d",
   "metadata": {},
   "outputs": [
    {
     "data": {
      "text/plain": [
       "'Manahil Zahid'"
      ]
     },
     "execution_count": 46,
     "metadata": {},
     "output_type": "execute_result"
    }
   ],
   "source": [
    "# Ex.5\n",
    "def get_formatted_name(first, last):\n",
    "    full_name = first + \" \" + last\n",
    "    return full_name.title()\n",
    "get_formatted_name(\"manahil\", \"zahid\")\n"
   ]
  },
  {
   "cell_type": "code",
   "execution_count": 7,
   "id": "1b8dca51-7e95-4ec9-a6b1-420fa668316a",
   "metadata": {},
   "outputs": [
    {
     "name": "stdout",
     "output_type": "stream",
     "text": [
      "Sara   Ali\n",
      "Sara Ali Ahmed\n"
     ]
    }
   ],
   "source": [
    "# Ex. 6\n",
    "def get_formatted_name(first, last, middle=\" \"):\n",
    "    if (middle):\n",
    "      full_name = first + \" \" + middle + \" \" + last\n",
    "    else:\n",
    "        full_name = first + \" \" + last\n",
    "    return full_name.title()\n",
    "name1 = get_formatted_name(\"sara\", \"ali\") \n",
    "name2 = get_formatted_name(\"sara\",\"ahmed\", \"ali\") \n",
    "print(name1)\n",
    "print(name2) "
   ]
  },
  {
   "cell_type": "code",
   "execution_count": 9,
   "id": "df2dd683-03e3-4894-b787-892d4f530030",
   "metadata": {},
   "outputs": [
    {
     "data": {
      "text/plain": [
       "{'first': 'Sara', 'last': 'Ali'}"
      ]
     },
     "execution_count": 9,
     "metadata": {},
     "output_type": "execute_result"
    }
   ],
   "source": [
    "# Ex.7\n",
    "def build_person(first, last, age=None):\n",
    " person = {\"first\": first, \"last\": last}\n",
    " if age != None:\n",
    "   person[\"age\"] = age\n",
    " return person\n",
    "build_person(\"Sara\", \"Ali\", None)"
   ]
  },
  {
   "cell_type": "code",
   "execution_count": 10,
   "id": "352d922c-4caf-4dec-82c7-a72a7caec74b",
   "metadata": {},
   "outputs": [
    {
     "name": "stdout",
     "output_type": "stream",
     "text": [
      "hello, ali\n",
      "hello, ayesha\n",
      "hello, sara\n"
     ]
    }
   ],
   "source": [
    "# Ex.8\n",
    "def greet_users(usernames):\n",
    " for name in usernames:\n",
    "     print(f\"hello, {name}\")\n",
    "greet_users([\"ali\",\"ayesha\",\"sara\"])\n"
   ]
  },
  {
   "cell_type": "code",
   "execution_count": 13,
   "id": "75fc84c0-534d-41c6-bb18-cd8a00e47b01",
   "metadata": {},
   "outputs": [
    {
     "name": "stdout",
     "output_type": "stream",
     "text": [
      "pepperoni\n",
      "cheese\n",
      "mushrooms\n"
     ]
    }
   ],
   "source": [
    "# Ex.9\n",
    "def make_pizza(*toppings):\n",
    "    for topping in toppings:\n",
    "     print(topping)\n",
    "make_pizza(\"pepperoni\", \"cheese\", \"mushrooms\")"
   ]
  },
  {
   "cell_type": "code",
   "execution_count": 17,
   "id": "c97b448d-fdb7-4cab-846d-9ac125987345",
   "metadata": {},
   "outputs": [
    {
     "name": "stdout",
     "output_type": "stream",
     "text": [
      "{'first_name': 'Ali', 'last_name': 'Ahmed', 'age': 21, 'city': 'Lahore', 'occupation': 'Doctor'}\n"
     ]
    }
   ],
   "source": [
    "# Ex.10\n",
    "def build_profile(first, last, **info):\n",
    "    profile = {}\n",
    "    profile['first_name'] = first\n",
    "    profile['last_name'] = last\n",
    "    for key, value in info.items():\n",
    "        profile[key] = value\n",
    "    return profile\n",
    "\n",
    "user_profile = build_profile('Ali', 'Ahmed', age=21, city='Lahore', occupation='Doctor')\n",
    "print(user_profile)\n"
   ]
  },
  {
   "cell_type": "code",
   "execution_count": null,
   "id": "8b8f429a-55a0-4eec-ba6f-b3fc7bd02f27",
   "metadata": {},
   "outputs": [],
   "source": []
  },
  {
   "cell_type": "code",
   "execution_count": null,
   "id": "d809e46e-2e14-4d29-8dce-4592b64b875b",
   "metadata": {},
   "outputs": [],
   "source": []
  },
  {
   "cell_type": "code",
   "execution_count": null,
   "id": "f4a6d55e-5fa6-49ac-88c6-ffaf82009fab",
   "metadata": {},
   "outputs": [],
   "source": []
  },
  {
   "cell_type": "code",
   "execution_count": null,
   "id": "df5a020d-92ed-4914-ad83-beda01cc6090",
   "metadata": {},
   "outputs": [],
   "source": []
  },
  {
   "cell_type": "code",
   "execution_count": null,
   "id": "9ff4e36c-9a56-439c-a95d-ccdfa5e68c10",
   "metadata": {},
   "outputs": [],
   "source": []
  },
  {
   "cell_type": "code",
   "execution_count": null,
   "id": "d6b27853-1ac0-4439-a681-7c444381d7d9",
   "metadata": {},
   "outputs": [],
   "source": []
  },
  {
   "cell_type": "code",
   "execution_count": null,
   "id": "c135d497-8156-490f-95e7-83bcb4c2dc03",
   "metadata": {},
   "outputs": [],
   "source": []
  },
  {
   "cell_type": "code",
   "execution_count": null,
   "id": "e7caf2d0-efe1-4b62-92a5-34ff5fb6ea9a",
   "metadata": {},
   "outputs": [],
   "source": []
  },
  {
   "cell_type": "code",
   "execution_count": null,
   "id": "5fba1efa-515f-44a5-8d18-80fec3005f74",
   "metadata": {},
   "outputs": [],
   "source": []
  },
  {
   "cell_type": "code",
   "execution_count": null,
   "id": "4bd40d9a-b7c8-4d82-bb3f-ab19877bbbd0",
   "metadata": {},
   "outputs": [],
   "source": []
  },
  {
   "cell_type": "code",
   "execution_count": null,
   "id": "f3958928-24a9-41b4-bcbd-122002b83d85",
   "metadata": {},
   "outputs": [],
   "source": []
  },
  {
   "cell_type": "code",
   "execution_count": null,
   "id": "27424085-5598-43ac-815b-4a5ba4136b06",
   "metadata": {},
   "outputs": [],
   "source": []
  },
  {
   "cell_type": "code",
   "execution_count": null,
   "id": "ed76c3fe-d26e-4b42-9a45-8f90e2a59c70",
   "metadata": {},
   "outputs": [],
   "source": []
  },
  {
   "cell_type": "code",
   "execution_count": null,
   "id": "cf8da8cc-69c4-4bbf-9003-51c3b64b211e",
   "metadata": {},
   "outputs": [],
   "source": []
  },
  {
   "cell_type": "code",
   "execution_count": null,
   "id": "2ec45f3e-5106-4fb4-b21f-edac2b6010f5",
   "metadata": {},
   "outputs": [],
   "source": []
  },
  {
   "cell_type": "code",
   "execution_count": null,
   "id": "2a7b0af3-c007-41e0-99b6-bf1dd5eed1bb",
   "metadata": {},
   "outputs": [],
   "source": []
  },
  {
   "cell_type": "code",
   "execution_count": null,
   "id": "adc4a701-ee57-4ffe-97c3-03a15b424358",
   "metadata": {},
   "outputs": [],
   "source": []
  },
  {
   "cell_type": "code",
   "execution_count": null,
   "id": "c845d3dd-548e-4866-b2d4-128a67315157",
   "metadata": {},
   "outputs": [],
   "source": []
  },
  {
   "cell_type": "code",
   "execution_count": null,
   "id": "5f55deef-5fa7-4bd9-8db1-5c8902cd6712",
   "metadata": {},
   "outputs": [],
   "source": []
  },
  {
   "cell_type": "code",
   "execution_count": null,
   "id": "0e95972b-3d19-4d69-9920-b0752b351c57",
   "metadata": {},
   "outputs": [],
   "source": []
  },
  {
   "cell_type": "code",
   "execution_count": null,
   "id": "b5f5720d-3e70-4503-aa20-14fec4ba9da3",
   "metadata": {},
   "outputs": [],
   "source": []
  },
  {
   "cell_type": "code",
   "execution_count": null,
   "id": "84866326-3939-4b62-b1d8-571ce29b304e",
   "metadata": {},
   "outputs": [],
   "source": []
  },
  {
   "cell_type": "code",
   "execution_count": null,
   "id": "0f36714e-b5ee-452f-b994-c07b19349dcb",
   "metadata": {},
   "outputs": [],
   "source": []
  },
  {
   "cell_type": "code",
   "execution_count": null,
   "id": "69365f55-55c2-49ba-86c7-f70fef3de302",
   "metadata": {},
   "outputs": [],
   "source": []
  },
  {
   "cell_type": "code",
   "execution_count": null,
   "id": "2561e168-f223-4c07-bddf-3d9dc2c6ba74",
   "metadata": {},
   "outputs": [],
   "source": []
  },
  {
   "cell_type": "code",
   "execution_count": null,
   "id": "f18fad43-4089-4bc1-836b-0b6fc0f5abcf",
   "metadata": {},
   "outputs": [],
   "source": []
  },
  {
   "cell_type": "code",
   "execution_count": null,
   "id": "c97b8c8e-f642-4e65-8404-c1bf10b8d1f3",
   "metadata": {},
   "outputs": [],
   "source": []
  },
  {
   "cell_type": "code",
   "execution_count": null,
   "id": "a0a5f017-860d-493f-a46e-d4eace2333b2",
   "metadata": {},
   "outputs": [],
   "source": []
  },
  {
   "cell_type": "code",
   "execution_count": null,
   "id": "1939dbaa-cd11-40bf-a791-8436757d2b71",
   "metadata": {},
   "outputs": [],
   "source": []
  },
  {
   "cell_type": "code",
   "execution_count": null,
   "id": "9071da10-79d5-400e-8586-fc39c376c9c4",
   "metadata": {},
   "outputs": [],
   "source": []
  },
  {
   "cell_type": "code",
   "execution_count": null,
   "id": "d78a35c4-662a-41af-b8ae-dc55d5334431",
   "metadata": {},
   "outputs": [],
   "source": []
  },
  {
   "cell_type": "code",
   "execution_count": null,
   "id": "ac5f242b-085b-44c3-9947-dd0ea54fda4e",
   "metadata": {},
   "outputs": [],
   "source": []
  },
  {
   "cell_type": "code",
   "execution_count": null,
   "id": "bcd5b1aa-2c98-4a1f-b51e-6bfd08b370b5",
   "metadata": {},
   "outputs": [],
   "source": []
  },
  {
   "cell_type": "code",
   "execution_count": null,
   "id": "ffb97f2c-3439-4faa-8b46-9738f116ecfb",
   "metadata": {},
   "outputs": [],
   "source": []
  },
  {
   "cell_type": "code",
   "execution_count": null,
   "id": "6e8d1fbc-a218-486b-b70d-e1af7d8c4220",
   "metadata": {},
   "outputs": [],
   "source": []
  },
  {
   "cell_type": "code",
   "execution_count": null,
   "id": "d551c8e4-050e-4a8e-9263-6e9404535a0c",
   "metadata": {},
   "outputs": [],
   "source": []
  },
  {
   "cell_type": "code",
   "execution_count": null,
   "id": "53851552-f4e0-4c36-8ef9-1aebe3b4f411",
   "metadata": {},
   "outputs": [],
   "source": []
  },
  {
   "cell_type": "code",
   "execution_count": null,
   "id": "2f737725-bd0e-4690-9c9c-71b0a77c0bf5",
   "metadata": {},
   "outputs": [],
   "source": []
  },
  {
   "cell_type": "code",
   "execution_count": null,
   "id": "4a5a5154-4722-4141-b419-05e33b81b08e",
   "metadata": {},
   "outputs": [],
   "source": []
  },
  {
   "cell_type": "code",
   "execution_count": null,
   "id": "6a61d767-8def-4c84-9c97-5de81d4d6fa1",
   "metadata": {},
   "outputs": [],
   "source": []
  },
  {
   "cell_type": "code",
   "execution_count": null,
   "id": "0ba80ce5-f0cb-4a45-9b34-9d88f4b8c272",
   "metadata": {},
   "outputs": [],
   "source": []
  },
  {
   "cell_type": "code",
   "execution_count": null,
   "id": "9f482596-5732-47a2-9831-fd05d71812a1",
   "metadata": {},
   "outputs": [],
   "source": []
  },
  {
   "cell_type": "code",
   "execution_count": null,
   "id": "457cdecb-feb6-4893-9ba1-7fe279ff75c0",
   "metadata": {},
   "outputs": [],
   "source": []
  },
  {
   "cell_type": "code",
   "execution_count": null,
   "id": "4239bac3-e8dc-4a75-a4ec-d4af78286771",
   "metadata": {},
   "outputs": [],
   "source": []
  },
  {
   "cell_type": "code",
   "execution_count": null,
   "id": "add25977-fc7f-4ca6-bcb6-1e75ef993312",
   "metadata": {},
   "outputs": [],
   "source": []
  },
  {
   "cell_type": "code",
   "execution_count": null,
   "id": "2f041814-9289-4436-b34c-cb009d2967f2",
   "metadata": {},
   "outputs": [],
   "source": []
  },
  {
   "cell_type": "code",
   "execution_count": null,
   "id": "cceeeb98-8280-4291-bb04-3d68a82d3b4c",
   "metadata": {},
   "outputs": [],
   "source": []
  },
  {
   "cell_type": "code",
   "execution_count": null,
   "id": "5a96df51-ecd6-41ca-890d-cc4fe123b7fc",
   "metadata": {},
   "outputs": [],
   "source": []
  },
  {
   "cell_type": "code",
   "execution_count": null,
   "id": "f3c8e5af-9590-4e48-a220-55ec0f898495",
   "metadata": {},
   "outputs": [],
   "source": []
  },
  {
   "cell_type": "code",
   "execution_count": null,
   "id": "5a8cabaf-4e93-4775-863a-cb34596a979b",
   "metadata": {},
   "outputs": [],
   "source": []
  },
  {
   "cell_type": "code",
   "execution_count": null,
   "id": "6dd07bdd-f8d6-4931-8903-2d66e420684f",
   "metadata": {},
   "outputs": [],
   "source": []
  },
  {
   "cell_type": "code",
   "execution_count": null,
   "id": "5eb30e38-49f4-4981-8e97-c74f8c13b608",
   "metadata": {},
   "outputs": [],
   "source": []
  },
  {
   "cell_type": "code",
   "execution_count": null,
   "id": "7fa60c86-a13d-49ab-89ea-fb6320d3bcb5",
   "metadata": {},
   "outputs": [],
   "source": []
  },
  {
   "cell_type": "code",
   "execution_count": null,
   "id": "21f49781-7172-49cb-b295-9340ab04993d",
   "metadata": {},
   "outputs": [],
   "source": []
  },
  {
   "cell_type": "code",
   "execution_count": null,
   "id": "d6f859fd-2041-4b53-8644-071860c292d3",
   "metadata": {},
   "outputs": [],
   "source": []
  },
  {
   "cell_type": "code",
   "execution_count": null,
   "id": "686f2d2b-65c2-47f7-8b01-161b0cf57aea",
   "metadata": {},
   "outputs": [],
   "source": []
  },
  {
   "cell_type": "code",
   "execution_count": null,
   "id": "5d4bcfd4-09cc-456e-91e8-7c72cfd6131a",
   "metadata": {},
   "outputs": [],
   "source": []
  },
  {
   "cell_type": "code",
   "execution_count": null,
   "id": "6d5640c7-bb76-4db3-9742-ab5ec70f9117",
   "metadata": {},
   "outputs": [],
   "source": []
  },
  {
   "cell_type": "code",
   "execution_count": null,
   "id": "a2d433fb-e7b9-4d20-826c-20d5b3d6058a",
   "metadata": {},
   "outputs": [],
   "source": []
  },
  {
   "cell_type": "code",
   "execution_count": null,
   "id": "759fcb35-9621-4728-8fa5-9212ec228dbd",
   "metadata": {},
   "outputs": [],
   "source": []
  },
  {
   "cell_type": "code",
   "execution_count": null,
   "id": "4bd22c86-6305-4415-8ed7-43e8201ec2f2",
   "metadata": {},
   "outputs": [],
   "source": []
  },
  {
   "cell_type": "code",
   "execution_count": null,
   "id": "a738ec3a-7aaa-4355-b4dc-f6bae03efc6c",
   "metadata": {},
   "outputs": [],
   "source": []
  },
  {
   "cell_type": "code",
   "execution_count": null,
   "id": "b70af99e-8b14-47cb-86de-4fbed498daf9",
   "metadata": {},
   "outputs": [],
   "source": []
  },
  {
   "cell_type": "code",
   "execution_count": null,
   "id": "46e579d1-7377-4389-aa45-0b49fbf6d333",
   "metadata": {},
   "outputs": [],
   "source": []
  },
  {
   "cell_type": "code",
   "execution_count": null,
   "id": "9932c13f-1b1d-4eab-b7ab-96976d3627c5",
   "metadata": {},
   "outputs": [],
   "source": []
  },
  {
   "cell_type": "code",
   "execution_count": null,
   "id": "a5f0fb14-fc0f-4a57-b8f1-4111536f55ee",
   "metadata": {},
   "outputs": [],
   "source": []
  },
  {
   "cell_type": "code",
   "execution_count": null,
   "id": "b9eb53fe-c165-4af0-87c3-092e4364fcae",
   "metadata": {},
   "outputs": [],
   "source": []
  },
  {
   "cell_type": "code",
   "execution_count": null,
   "id": "5e42e3dd-8cf2-4262-abd0-82c881176ddd",
   "metadata": {},
   "outputs": [],
   "source": []
  },
  {
   "cell_type": "code",
   "execution_count": null,
   "id": "e84e741f-008d-47d8-865a-a9dd0b2cad1c",
   "metadata": {},
   "outputs": [],
   "source": []
  },
  {
   "cell_type": "code",
   "execution_count": null,
   "id": "9e3223d3-7d02-4d0b-aebb-52f8f5cacb8a",
   "metadata": {},
   "outputs": [],
   "source": []
  },
  {
   "cell_type": "code",
   "execution_count": null,
   "id": "b26f387c-cdfb-4721-9e62-6a8d2b2cb792",
   "metadata": {},
   "outputs": [],
   "source": []
  },
  {
   "cell_type": "code",
   "execution_count": null,
   "id": "97e732d8-db2a-405f-8867-df7b0f61e16b",
   "metadata": {},
   "outputs": [],
   "source": []
  },
  {
   "cell_type": "code",
   "execution_count": null,
   "id": "32c02c07-f0eb-48af-8f35-1c357719800b",
   "metadata": {},
   "outputs": [],
   "source": []
  },
  {
   "cell_type": "code",
   "execution_count": null,
   "id": "3c7c0045-6103-4547-bdaa-907c1897363f",
   "metadata": {},
   "outputs": [],
   "source": []
  },
  {
   "cell_type": "code",
   "execution_count": null,
   "id": "f77b6fe6-cccf-4668-8890-123c95f1c92c",
   "metadata": {},
   "outputs": [],
   "source": []
  },
  {
   "cell_type": "code",
   "execution_count": null,
   "id": "79f5f348-5aa4-4508-bfa8-4e52747ff92e",
   "metadata": {},
   "outputs": [],
   "source": []
  }
 ],
 "metadata": {
  "kernelspec": {
   "display_name": "base",
   "language": "python",
   "name": "python3"
  },
  "language_info": {
   "codemirror_mode": {
    "name": "ipython",
    "version": 3
   },
   "file_extension": ".py",
   "mimetype": "text/x-python",
   "name": "python",
   "nbconvert_exporter": "python",
   "pygments_lexer": "ipython3",
   "version": "3.12.7"
  }
 },
 "nbformat": 4,
 "nbformat_minor": 5
}
